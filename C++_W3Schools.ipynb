{
  "nbformat": 4,
  "nbformat_minor": 0,
  "metadata": {
    "colab": {
      "provenance": [],
      "authorship_tag": "ABX9TyPPPqfEauiyuybhtaVJm0K1",
      "include_colab_link": true
    },
    "kernelspec": {
      "name": "python3",
      "display_name": "Python 3"
    },
    "language_info": {
      "name": "python"
    }
  },
  "cells": [
    {
      "cell_type": "markdown",
      "metadata": {
        "id": "view-in-github",
        "colab_type": "text"
      },
      "source": [
        "<a href=\"https://colab.research.google.com/github/SanjayGandhiS/tut/blob/main/C%2B%2B_W3Schools.ipynb\" target=\"_parent\"><img src=\"https://colab.research.google.com/assets/colab-badge.svg\" alt=\"Open In Colab\"/></a>"
      ]
    },
    {
      "cell_type": "markdown",
      "source": [
        "# C++ Introduction"
      ],
      "metadata": {
        "id": "m7IgHUxON6Jl"
      }
    },
    {
      "cell_type": "markdown",
      "source": [
        "## What is C++?\n",
        "- C++ is a cross-platform language that can be used to create high-performance applications.\n",
        "- C++ was developed by Bjarne Stroustrup, as an extension to the C language.\n",
        "- C++ gives programmers a high level of control over system resources and memory.\n",
        "- The language was updated 4 major times in 2011, 2014, 2017, and 2020 to C++11, C++14, C++17, C++20.\n"
      ],
      "metadata": {
        "id": "LZYRgLpdN8o8"
      }
    },
    {
      "cell_type": "markdown",
      "source": [
        "## Why Use C++\n",
        "- C++ is one of the world's most popular programming languages.\n",
        "- C++ can be found in today's operating systems, Graphical User Interfaces, and embedded systems.\n",
        "- C++ is an object-oriented programming language which gives a clear structure to programs and allows code to be reused, lowering development costs.\n",
        "- C++ is portable and can be used to develop applications that can be adapted to multiple platforms.\n",
        "- As C++ is close to C, C# and Java, it makes it easy for programmers to switch to C++ or vice versa.\n",
        "\n"
      ],
      "metadata": {
        "id": "LpCCr28UOTDb"
      }
    },
    {
      "cell_type": "markdown",
      "source": [
        "## Difference between C and C++\n",
        "- C++ was developed as an extension of C, and both languages have almost the same syntax.\n",
        "- The main difference between C and C++ is that C++ support classes and objects, while C does not."
      ],
      "metadata": {
        "id": "5JU5bu7LOm_y"
      }
    },
    {
      "cell_type": "code",
      "execution_count": null,
      "metadata": {
        "id": "7S9eaR8UMmPW"
      },
      "outputs": [],
      "source": []
    }
  ]
}